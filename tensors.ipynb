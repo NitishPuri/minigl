{
 "cells": [
  {
   "cell_type": "code",
   "execution_count": 1,
   "metadata": {
    "collapsed": true
   },
   "outputs": [],
   "source": [
    "import numpy as np"
   ]
  },
  {
   "cell_type": "code",
   "execution_count": 20,
   "metadata": {},
   "outputs": [
    {
     "data": {
      "text/plain": [
       "array([1, 1, 3])"
      ]
     },
     "execution_count": 20,
     "metadata": {},
     "output_type": "execute_result"
    }
   ],
   "source": [
    "a = np.array([1, 2, 3])\n",
    "b = np.array([3, 1, 4])\n",
    "c = np.array([5, 6, 5])\n",
    "\n",
    "v = np.array([a, b, c])\n",
    "\n",
    "v.min(axis=0)"
   ]
  },
  {
   "cell_type": "code",
   "execution_count": 21,
   "metadata": {},
   "outputs": [
    {
     "data": {
      "text/plain": [
       "array([5, 6, 5])"
      ]
     },
     "execution_count": 21,
     "metadata": {},
     "output_type": "execute_result"
    }
   ],
   "source": [
    "v.max(axis=0)"
   ]
  },
  {
   "cell_type": "code",
   "execution_count": 22,
   "metadata": {},
   "outputs": [
    {
     "data": {
      "text/plain": [
       "array([[1, 2, 3],\n",
       "       [3, 1, 4],\n",
       "       [5, 6, 5]])"
      ]
     },
     "execution_count": 22,
     "metadata": {},
     "output_type": "execute_result"
    }
   ],
   "source": [
    "v"
   ]
  },
  {
   "cell_type": "code",
   "execution_count": 23,
   "metadata": {},
   "outputs": [
    {
     "data": {
      "text/plain": [
       "array([[3, 1, 4],\n",
       "       [1, 2, 3],\n",
       "       [5, 6, 5]])"
      ]
     },
     "execution_count": 23,
     "metadata": {},
     "output_type": "execute_result"
    }
   ],
   "source": [
    "v[v[:,1].argsort()]"
   ]
  },
  {
   "cell_type": "code",
   "execution_count": 24,
   "metadata": {},
   "outputs": [
    {
     "data": {
      "text/plain": [
       "array([[1, 2, 3],\n",
       "       [3, 1, 4],\n",
       "       [5, 6, 5]])"
      ]
     },
     "execution_count": 24,
     "metadata": {},
     "output_type": "execute_result"
    }
   ],
   "source": [
    "v"
   ]
  },
  {
   "cell_type": "markdown",
   "metadata": {},
   "source": [
    "## Barycentric coordinates"
   ]
  },
  {
   "cell_type": "code",
   "execution_count": 25,
   "metadata": {},
   "outputs": [
    {
     "data": {
      "text/plain": [
       "array([[-4, -4],\n",
       "       [-2, -5]])"
      ]
     },
     "execution_count": 25,
     "metadata": {},
     "output_type": "execute_result"
    }
   ],
   "source": [
    "T1 = ([a, b] - c)[:, :2]\n",
    "T1"
   ]
  },
  {
   "cell_type": "code",
   "execution_count": 26,
   "metadata": {},
   "outputs": [
    {
     "data": {
      "text/plain": [
       "array([[-4, -2],\n",
       "       [-4, -5]])"
      ]
     },
     "execution_count": 26,
     "metadata": {},
     "output_type": "execute_result"
    }
   ],
   "source": [
    "#  ax - cx    bx - cx\n",
    "#  ay - cy    by - cy\n",
    "T = (v[:-1,:2] - v[-1, :2]).T\n",
    "T"
   ]
  },
  {
   "cell_type": "code",
   "execution_count": 27,
   "metadata": {
    "collapsed": true
   },
   "outputs": [],
   "source": [
    "T_inv = np.linalg.inv(T)"
   ]
  },
  {
   "cell_type": "code",
   "execution_count": 28,
   "metadata": {
    "collapsed": true
   },
   "outputs": [],
   "source": [
    "p = np.array([3, 2, 3])"
   ]
  },
  {
   "cell_type": "code",
   "execution_count": 29,
   "metadata": {},
   "outputs": [
    {
     "data": {
      "text/plain": [
       "array([[-0.41666667,  0.16666667],\n",
       "       [ 0.33333333, -0.33333333]])"
      ]
     },
     "execution_count": 29,
     "metadata": {},
     "output_type": "execute_result"
    }
   ],
   "source": [
    "T_inv"
   ]
  },
  {
   "cell_type": "code",
   "execution_count": 58,
   "metadata": {},
   "outputs": [
    {
     "data": {
      "text/plain": [
       "array([-4, -4])"
      ]
     },
     "execution_count": 58,
     "metadata": {},
     "output_type": "execute_result"
    }
   ],
   "source": [
    "d = (p[:2] - v[-1, :2])\n",
    "d"
   ]
  },
  {
   "cell_type": "code",
   "execution_count": 69,
   "metadata": {
    "collapsed": true
   },
   "outputs": [],
   "source": [
    "bc = np.dot(T_inv, d)"
   ]
  },
  {
   "cell_type": "code",
   "execution_count": 71,
   "metadata": {},
   "outputs": [
    {
     "data": {
      "text/plain": [
       "array([  1.00000000e+00,   0.00000000e+00,   1.11022302e-16])"
      ]
     },
     "execution_count": 71,
     "metadata": {},
     "output_type": "execute_result"
    }
   ],
   "source": [
    "bc.resize(3)\n",
    "bc[-1] = 1 - bc.sum()\n",
    "bc"
   ]
  },
  {
   "cell_type": "code",
   "execution_count": 81,
   "metadata": {},
   "outputs": [
    {
     "data": {
      "text/plain": [
       "array([ True,  True,  True], dtype=bool)"
      ]
     },
     "execution_count": 81,
     "metadata": {},
     "output_type": "execute_result"
    }
   ],
   "source": [
    "bc >= 0"
   ]
  },
  {
   "cell_type": "code",
   "execution_count": 84,
   "metadata": {},
   "outputs": [
    {
     "data": {
      "text/plain": [
       "array([ True,  True,  True], dtype=bool)"
      ]
     },
     "execution_count": 84,
     "metadata": {},
     "output_type": "execute_result"
    }
   ],
   "source": [
    "bc <= 1"
   ]
  },
  {
   "cell_type": "code",
   "execution_count": 90,
   "metadata": {},
   "outputs": [
    {
     "data": {
      "text/plain": [
       "array([ True,  True,  True], dtype=bool)"
      ]
     },
     "execution_count": 90,
     "metadata": {},
     "output_type": "execute_result"
    }
   ],
   "source": [
    "np.less_equal(bc, 1)"
   ]
  },
  {
   "cell_type": "code",
   "execution_count": 93,
   "metadata": {},
   "outputs": [
    {
     "data": {
      "text/plain": [
       "True"
      ]
     },
     "execution_count": 93,
     "metadata": {},
     "output_type": "execute_result"
    }
   ],
   "source": [
    "np.logical_and( bc >= 0 , bc <= 1).all()"
   ]
  },
  {
   "cell_type": "code",
   "execution_count": 79,
   "metadata": {},
   "outputs": [
    {
     "ename": "ValueError",
     "evalue": "The truth value of an array with more than one element is ambiguous. Use a.any() or a.all()",
     "output_type": "error",
     "traceback": [
      "\u001b[0;31m---------------------------------------------------------------------------\u001b[0m",
      "\u001b[0;31mValueError\u001b[0m                                Traceback (most recent call last)",
      "\u001b[0;32m<ipython-input-79-0068c6de55a4>\u001b[0m in \u001b[0;36m<module>\u001b[0;34m()\u001b[0m\n\u001b[0;32m----> 1\u001b[0;31m \u001b[1;32mif\u001b[0m \u001b[1;33m(\u001b[0m\u001b[0mbc\u001b[0m \u001b[1;33m>\u001b[0m \u001b[1;36m0\u001b[0m \u001b[1;32mand\u001b[0m \u001b[0mbc\u001b[0m \u001b[1;33m<\u001b[0m \u001b[1;36m1\u001b[0m\u001b[1;33m)\u001b[0m\u001b[1;33m.\u001b[0m\u001b[0mall\u001b[0m\u001b[1;33m(\u001b[0m\u001b[1;33m)\u001b[0m\u001b[1;33m:\u001b[0m\u001b[1;33m\u001b[0m\u001b[0m\n\u001b[0m\u001b[1;32m      2\u001b[0m     \u001b[1;32mprint\u001b[0m\u001b[1;33m(\u001b[0m\u001b[0mFalse\u001b[0m\u001b[1;33m)\u001b[0m\u001b[1;33m\u001b[0m\u001b[0m\n",
      "\u001b[0;31mValueError\u001b[0m: The truth value of an array with more than one element is ambiguous. Use a.any() or a.all()"
     ]
    }
   ],
   "source": [
    "if (bc > 0 and bc < 1).all():\n",
    "    print(False)"
   ]
  },
  {
   "cell_type": "markdown",
   "metadata": {},
   "source": [
    "# Vectoriced triangle rendering"
   ]
  },
  {
   "cell_type": "code",
   "execution_count": 150,
   "metadata": {},
   "outputs": [
    {
     "name": "stdout",
     "output_type": "stream",
     "text": [
      "('T = ', array([[-4, -2],\n",
      "       [-4, -5]]))\n",
      "('T_inv = ', array([[-0.41666667,  0.16666667],\n",
      "       [ 0.33333333, -0.33333333]]))\n"
     ]
    }
   ],
   "source": [
    "T = (v[:-1, :2] - v[-1, :2]).T\n",
    "print(\"T = \", T)\n",
    "T_inv = np.linalg.inv(T)\n",
    "print(\"T_inv = \", T_inv)"
   ]
  },
  {
   "cell_type": "code",
   "execution_count": 100,
   "metadata": {
    "collapsed": true
   },
   "outputs": [],
   "source": [
    "nx, ny = 3, 2"
   ]
  },
  {
   "cell_type": "code",
   "execution_count": 125,
   "metadata": {},
   "outputs": [
    {
     "data": {
      "text/plain": [
       "array([3, 4, 5, 6])"
      ]
     },
     "execution_count": 125,
     "metadata": {},
     "output_type": "execute_result"
    }
   ],
   "source": [
    "x = np.arange(3, 7)\n",
    "x"
   ]
  },
  {
   "cell_type": "code",
   "execution_count": 126,
   "metadata": {},
   "outputs": [
    {
     "data": {
      "text/plain": [
       "array([5, 6, 7])"
      ]
     },
     "execution_count": 126,
     "metadata": {},
     "output_type": "execute_result"
    }
   ],
   "source": [
    "y = np.arange(5, 8)\n",
    "y"
   ]
  },
  {
   "cell_type": "code",
   "execution_count": 173,
   "metadata": {},
   "outputs": [
    {
     "name": "stdout",
     "output_type": "stream",
     "text": [
      "[[3 4 5 6]\n",
      " [3 4 5 6]\n",
      " [3 4 5 6]]\n",
      "[[5 5 5 5]\n",
      " [6 6 6 6]\n",
      " [7 7 7 7]]\n"
     ]
    }
   ],
   "source": [
    "u, v = np.meshgrid(x, y, sparse=False)\n",
    "print(u)\n",
    "print(v)"
   ]
  },
  {
   "cell_type": "code",
   "execution_count": 179,
   "metadata": {},
   "outputs": [
    {
     "name": "stdout",
     "output_type": "stream",
     "text": [
      "[[[3 4 5 6]\n",
      "  [3 4 5 6]\n",
      "  [3 4 5 6]]\n",
      "\n",
      " [[5 5 5 5]\n",
      "  [6 6 6 6]\n",
      "  [7 7 7 7]]]\n",
      "(2L, 3L, 4L)\n"
     ]
    }
   ],
   "source": [
    "uv = np.array([u, v])\n",
    "print(uv)\n",
    "print(uv.shape)"
   ]
  },
  {
   "cell_type": "code",
   "execution_count": 180,
   "metadata": {},
   "outputs": [
    {
     "name": "stdout",
     "output_type": "stream",
     "text": [
      "[[[3 5]\n",
      "  [4 5]\n",
      "  [5 5]\n",
      "  [6 5]]\n",
      "\n",
      " [[3 6]\n",
      "  [4 6]\n",
      "  [5 6]\n",
      "  [6 6]]\n",
      "\n",
      " [[3 7]\n",
      "  [4 7]\n",
      "  [5 7]\n",
      "  [6 7]]]\n"
     ]
    },
    {
     "data": {
      "text/plain": [
       "(3L, 4L, 2L)"
      ]
     },
     "execution_count": 180,
     "metadata": {},
     "output_type": "execute_result"
    }
   ],
   "source": [
    "uv = uv.transpose(1, 2, 0)\n",
    "print(uv)\n",
    "uv.shape"
   ]
  },
  {
   "cell_type": "code",
   "execution_count": 214,
   "metadata": {},
   "outputs": [
    {
     "name": "stdout",
     "output_type": "stream",
     "text": [
      "[[[1 2]\n",
      "  [2 2]\n",
      "  [3 2]\n",
      "  [4 2]]\n",
      "\n",
      " [[1 3]\n",
      "  [2 3]\n",
      "  [3 3]\n",
      "  [4 3]]\n",
      "\n",
      " [[1 4]\n",
      "  [2 4]\n",
      "  [3 4]\n",
      "  [4 4]]]\n"
     ]
    },
    {
     "data": {
      "text/plain": [
       "(3L, 4L, 2L)"
      ]
     },
     "execution_count": 214,
     "metadata": {},
     "output_type": "execute_result"
    }
   ],
   "source": [
    "bcd = uv - np.array([2, 3])\n",
    "print(bcd)\n",
    "bcd.shape"
   ]
  },
  {
   "cell_type": "code",
   "execution_count": 318,
   "metadata": {},
   "outputs": [
    {
     "name": "stdout",
     "output_type": "stream",
     "text": [
      "[[1 2]\n",
      " [3 4]]\n"
     ]
    }
   ],
   "source": [
    "t = np.arange(1, 5).reshape((2, 2))\n",
    "print(t)"
   ]
  },
  {
   "cell_type": "code",
   "execution_count": 319,
   "metadata": {},
   "outputs": [
    {
     "data": {
      "text/plain": [
       "array([ 5, 11])"
      ]
     },
     "execution_count": 319,
     "metadata": {},
     "output_type": "execute_result"
    }
   ],
   "source": [
    "(t * bcd[0, 0]).sum(axis=-1)"
   ]
  },
  {
   "cell_type": "code",
   "execution_count": 320,
   "metadata": {},
   "outputs": [
    {
     "data": {
      "text/plain": [
       "array([ 5, 11])"
      ]
     },
     "execution_count": 320,
     "metadata": {},
     "output_type": "execute_result"
    }
   ],
   "source": [
    "np.dot(t, bcd[0, 0])"
   ]
  },
  {
   "cell_type": "code",
   "execution_count": 321,
   "metadata": {},
   "outputs": [
    {
     "data": {
      "text/plain": [
       "array([[[5, 11],\n",
       "        [6, 14],\n",
       "        [7, 17],\n",
       "        [8, 20]],\n",
       "\n",
       "       [[7, 15],\n",
       "        [8, 18],\n",
       "        [9, 21],\n",
       "        [10, 24]],\n",
       "\n",
       "       [[9, 19],\n",
       "        [10, 22],\n",
       "        [11, 25],\n",
       "        [12, 28]]], dtype=object)"
      ]
     },
     "execution_count": 321,
     "metadata": {},
     "output_type": "execute_result"
    }
   ],
   "source": [
    "d = np.array(['']*24, dtype=object).reshape((3, 4, 2))\n",
    "for i in range(3):\n",
    "    for j in range(4):\n",
    "        d[i, j] = np.dot(t, bcd[i, j])\n",
    "d"
   ]
  },
  {
   "cell_type": "code",
   "execution_count": 325,
   "metadata": {},
   "outputs": [
    {
     "data": {
      "text/plain": [
       "array([[[-0.08333333, -0.33333333],\n",
       "        [-0.5       ,  0.        ],\n",
       "        [-0.91666667,  0.33333333],\n",
       "        [-1.33333333,  0.66666667]],\n",
       "\n",
       "       [[ 0.08333333, -0.66666667],\n",
       "        [-0.33333333, -0.33333333],\n",
       "        [-0.75      ,  0.        ],\n",
       "        [-1.16666667,  0.33333333]],\n",
       "\n",
       "       [[ 0.25      , -1.        ],\n",
       "        [-0.16666667, -0.66666667],\n",
       "        [-0.58333333, -0.33333333],\n",
       "        [-1.        ,  0.        ]]])"
      ]
     },
     "execution_count": 325,
     "metadata": {},
     "output_type": "execute_result"
    }
   ],
   "source": [
    "bc = np.tensordot(T_inv, bcd, axes=(1, 2)).transpose(1, 2, 0)\n",
    "bc"
   ]
  },
  {
   "cell_type": "code",
   "execution_count": 353,
   "metadata": {},
   "outputs": [
    {
     "data": {
      "text/plain": [
       "array([[-0.41666667, -0.5       , -0.58333333, -0.66666667],\n",
       "       [-0.58333333, -0.66666667, -0.75      , -0.83333333],\n",
       "       [-0.75      , -0.83333333, -0.91666667, -1.        ]])"
      ]
     },
     "execution_count": 353,
     "metadata": {},
     "output_type": "execute_result"
    }
   ],
   "source": [
    "bc.sum(axis=2)"
   ]
  },
  {
   "cell_type": "code",
   "execution_count": 354,
   "metadata": {},
   "outputs": [
    {
     "name": "stdout",
     "output_type": "stream",
     "text": [
      "[[[-0.08333333 -0.33333333  0.        ]\n",
      "  [-0.5         0.          0.        ]\n",
      "  [-0.91666667  0.33333333  0.        ]\n",
      "  [-1.33333333  0.66666667  0.        ]]\n",
      "\n",
      " [[ 0.08333333 -0.66666667  0.        ]\n",
      "  [-0.33333333 -0.33333333  0.        ]\n",
      "  [-0.75        0.          0.        ]\n",
      "  [-1.16666667  0.33333333  0.        ]]\n",
      "\n",
      " [[ 0.25       -1.          0.        ]\n",
      "  [-0.16666667 -0.66666667  0.        ]\n",
      "  [-0.58333333 -0.33333333  0.        ]\n",
      "  [-1.          0.          0.        ]]]\n",
      "[[[-0.08333333 -0.33333333  1.41666667]\n",
      "  [-0.5         0.          1.5       ]\n",
      "  [-0.91666667  0.33333333  1.58333333]\n",
      "  [-1.33333333  0.66666667  1.66666667]]\n",
      "\n",
      " [[ 0.08333333 -0.66666667  1.58333333]\n",
      "  [-0.33333333 -0.33333333  1.66666667]\n",
      "  [-0.75        0.          1.75      ]\n",
      "  [-1.16666667  0.33333333  1.83333333]]\n",
      "\n",
      " [[ 0.25       -1.          1.75      ]\n",
      "  [-0.16666667 -0.66666667  1.83333333]\n",
      "  [-0.58333333 -0.33333333  1.91666667]\n",
      "  [-1.          0.          2.        ]]]\n"
     ]
    }
   ],
   "source": [
    "bcw = np.zeros((bc.shape[0], bc.shape[1], 3))\n",
    "bcw[:,:, :2] = bc\n",
    "bcw[:,:, 2] = 1 - bc.sum(axis=-1)\n",
    "print(bcw)"
   ]
  },
  {
   "cell_type": "code",
   "execution_count": 335,
   "metadata": {},
   "outputs": [
    {
     "data": {
      "text/plain": [
       "array([[False, False, False, False],\n",
       "       [False, False, False, False],\n",
       "       [False, False, False, False]], dtype=bool)"
      ]
     },
     "execution_count": 335,
     "metadata": {},
     "output_type": "execute_result"
    }
   ],
   "source": [
    "np.logical_and ( np.greater_equal(bc[:,:,0], 0) , np.greater_equal(bc[:,:,1], 0))"
   ]
  },
  {
   "cell_type": "code",
   "execution_count": null,
   "metadata": {
    "collapsed": true
   },
   "outputs": [],
   "source": []
  },
  {
   "cell_type": "code",
   "execution_count": null,
   "metadata": {
    "collapsed": true
   },
   "outputs": [],
   "source": [
    "np.tensordot(T_inv, bcs)"
   ]
  },
  {
   "cell_type": "code",
   "execution_count": 151,
   "metadata": {},
   "outputs": [
    {
     "ename": "ValueError",
     "evalue": "shapes (2,2) and (2,3,4) not aligned: 2 (dim 1) != 3 (dim 1)",
     "output_type": "error",
     "traceback": [
      "\u001b[0;31m---------------------------------------------------------------------------\u001b[0m",
      "\u001b[0;31mValueError\u001b[0m                                Traceback (most recent call last)",
      "\u001b[0;32m<ipython-input-151-445aa5287e17>\u001b[0m in \u001b[0;36m<module>\u001b[0;34m()\u001b[0m\n\u001b[0;32m----> 1\u001b[0;31m \u001b[0mbc\u001b[0m \u001b[1;33m=\u001b[0m \u001b[0mnp\u001b[0m\u001b[1;33m.\u001b[0m\u001b[0mdot\u001b[0m\u001b[1;33m(\u001b[0m\u001b[0mT_inv\u001b[0m\u001b[1;33m,\u001b[0m \u001b[0md\u001b[0m\u001b[1;33m)\u001b[0m\u001b[1;33m\u001b[0m\u001b[0m\n\u001b[0m\u001b[1;32m      2\u001b[0m \u001b[0mbc\u001b[0m\u001b[1;33m\u001b[0m\u001b[0m\n",
      "\u001b[0;31mValueError\u001b[0m: shapes (2,2) and (2,3,4) not aligned: 2 (dim 1) != 3 (dim 1)"
     ]
    }
   ],
   "source": [
    "bc = np.dot(T_inv, d)\n",
    "bc"
   ]
  },
  {
   "cell_type": "code",
   "execution_count": null,
   "metadata": {
    "collapsed": true
   },
   "outputs": [],
   "source": []
  },
  {
   "cell_type": "code",
   "execution_count": 190,
   "metadata": {},
   "outputs": [
    {
     "data": {
      "text/plain": [
       "array([[[1, 2],\n",
       "        [3, 4]],\n",
       "\n",
       "       [[5, 6],\n",
       "        [7, 8]]])"
      ]
     },
     "execution_count": 190,
     "metadata": {},
     "output_type": "execute_result"
    }
   ],
   "source": [
    "a = np.array(range(1, 9)).reshape(2, 2, 2)\n",
    "a"
   ]
  },
  {
   "cell_type": "code",
   "execution_count": 30,
   "metadata": {},
   "outputs": [
    {
     "data": {
      "text/plain": [
       "array([['a', 'b'],\n",
       "       ['c', 'd']], dtype=object)"
      ]
     },
     "execution_count": 30,
     "metadata": {},
     "output_type": "execute_result"
    }
   ],
   "source": [
    "A = np.array(('a', 'b', 'c', 'd'), dtype=object).reshape(2, 2)\n",
    "A"
   ]
  },
  {
   "cell_type": "code",
   "execution_count": null,
   "metadata": {
    "collapsed": true
   },
   "outputs": [],
   "source": []
  },
  {
   "cell_type": "code",
   "execution_count": 31,
   "metadata": {},
   "outputs": [
    {
     "ename": "IndexError",
     "evalue": "tuple index out of range",
     "output_type": "error",
     "traceback": [
      "\u001b[1;31m---------------------------------------------------------------------------\u001b[0m",
      "\u001b[1;31mIndexError\u001b[0m                                Traceback (most recent call last)",
      "\u001b[1;32m<ipython-input-31-4ea6ad9002d2>\u001b[0m in \u001b[0;36m<module>\u001b[1;34m()\u001b[0m\n\u001b[1;32m----> 1\u001b[1;33m \u001b[0mnp\u001b[0m\u001b[1;33m.\u001b[0m\u001b[0mtensordot\u001b[0m\u001b[1;33m(\u001b[0m\u001b[0ma\u001b[0m\u001b[1;33m,\u001b[0m \u001b[0mA\u001b[0m\u001b[1;33m)\u001b[0m\u001b[1;33m\u001b[0m\u001b[0m\n\u001b[0m",
      "\u001b[1;32mD:\\Installations\\Anaconda\\envs\\minigl\\lib\\site-packages\\numpy\\core\\numeric.py\u001b[0m in \u001b[0;36mtensordot\u001b[1;34m(a, b, axes)\u001b[0m\n\u001b[0;32m   1300\u001b[0m     \u001b[1;32melse\u001b[0m\u001b[1;33m:\u001b[0m\u001b[1;33m\u001b[0m\u001b[0m\n\u001b[0;32m   1301\u001b[0m         \u001b[1;32mfor\u001b[0m \u001b[0mk\u001b[0m \u001b[1;32min\u001b[0m \u001b[0mrange\u001b[0m\u001b[1;33m(\u001b[0m\u001b[0mna\u001b[0m\u001b[1;33m)\u001b[0m\u001b[1;33m:\u001b[0m\u001b[1;33m\u001b[0m\u001b[0m\n\u001b[1;32m-> 1302\u001b[1;33m             \u001b[1;32mif\u001b[0m \u001b[0mas_\u001b[0m\u001b[1;33m[\u001b[0m\u001b[0maxes_a\u001b[0m\u001b[1;33m[\u001b[0m\u001b[0mk\u001b[0m\u001b[1;33m]\u001b[0m\u001b[1;33m]\u001b[0m \u001b[1;33m!=\u001b[0m \u001b[0mbs\u001b[0m\u001b[1;33m[\u001b[0m\u001b[0maxes_b\u001b[0m\u001b[1;33m[\u001b[0m\u001b[0mk\u001b[0m\u001b[1;33m]\u001b[0m\u001b[1;33m]\u001b[0m\u001b[1;33m:\u001b[0m\u001b[1;33m\u001b[0m\u001b[0m\n\u001b[0m\u001b[0;32m   1303\u001b[0m                 \u001b[0mequal\u001b[0m \u001b[1;33m=\u001b[0m \u001b[1;32mFalse\u001b[0m\u001b[1;33m\u001b[0m\u001b[0m\n\u001b[0;32m   1304\u001b[0m                 \u001b[1;32mbreak\u001b[0m\u001b[1;33m\u001b[0m\u001b[0m\n",
      "\u001b[1;31mIndexError\u001b[0m: tuple index out of range"
     ]
    }
   ],
   "source": [
    "np.tensordot(a, A)"
   ]
  },
  {
   "cell_type": "code",
   "execution_count": 210,
   "metadata": {},
   "outputs": [
    {
     "data": {
      "text/plain": [
       "array([[['abb', 'cdd'],\n",
       "        ['aaabbbb', 'cccdddd']],\n",
       "\n",
       "       [['aaaaabbbbbb', 'cccccdddddd'],\n",
       "        ['aaaaaaabbbbbbbb', 'cccccccdddddddd']]], dtype=object)"
      ]
     },
     "execution_count": 210,
     "metadata": {},
     "output_type": "execute_result"
    }
   ],
   "source": [
    "np.tensordot(A, a, (1, 2)).transpose(1, 2, 0)"
   ]
  },
  {
   "cell_type": "code",
   "execution_count": 266,
   "metadata": {},
   "outputs": [
    {
     "data": {
      "text/plain": [
       "array([['a', 'bb'],\n",
       "       ['ccc', 'dddd']], dtype=object)"
      ]
     },
     "execution_count": 266,
     "metadata": {},
     "output_type": "execute_result"
    }
   ],
   "source": [
    "A * a[0]"
   ]
  },
  {
   "cell_type": "code",
   "execution_count": 291,
   "metadata": {},
   "outputs": [
    {
     "data": {
      "text/plain": [
       "array([[['abb', 'aaabbbb'],\n",
       "        ['aaaaabbbbbb', 'aaaaaaabbbbbbbb']],\n",
       "\n",
       "       [['cdd', 'cccdddd'],\n",
       "        ['cccccdddddd', 'cccccccdddddddd']]], dtype=object)"
      ]
     },
     "execution_count": 291,
     "metadata": {},
     "output_type": "execute_result"
    }
   ],
   "source": [
    "np.tensordot(A , a, axes=([1], [2]))"
   ]
  },
  {
   "cell_type": "code",
   "execution_count": 269,
   "metadata": {},
   "outputs": [
    {
     "data": {
      "text/plain": [
       "array([[['abb', 'cdd'],\n",
       "        ['aaabbbb', 'cccdddd']],\n",
       "\n",
       "       [['aaaaabbbbbb', 'cccccdddddd'],\n",
       "        ['aaaaaaabbbbbbbb', 'cccccccdddddddd']]], dtype=object)"
      ]
     },
     "execution_count": 269,
     "metadata": {},
     "output_type": "execute_result"
    }
   ],
   "source": [
    "d = np.array(['']*8, dtype=object).reshape((2, 2, 2))\n",
    "for i in range(2): # 0\n",
    "#     d[i] = (A * a[i]).sum(axis=-1)\n",
    "    for j in range(2): # 1\n",
    "        d[i, j] = (A * a[i, j]).sum(axis=-1)\n",
    "#         for k in range(2): # 2            \n",
    "#             d[i, j, k] += (A[k] * a[i, j]).sum()\n",
    "#             for n in range(2): # 3\n",
    "#                 d[i, j, k] += A[k, n] * a[i, j, n]\n",
    "d"
   ]
  },
  {
   "cell_type": "code",
   "execution_count": 32,
   "metadata": {},
   "outputs": [
    {
     "data": {
      "text/plain": [
       "array([[[ 1,  2],\n",
       "        [ 3,  4],\n",
       "        [ 5,  6],\n",
       "        [ 7,  8]],\n",
       "\n",
       "       [[ 9, 10],\n",
       "        [11, 12],\n",
       "        [13, 14],\n",
       "        [15, 16]],\n",
       "\n",
       "       [[17, 18],\n",
       "        [19, 20],\n",
       "        [21, 22],\n",
       "        [23, 24]]])"
      ]
     },
     "execution_count": 32,
     "metadata": {},
     "output_type": "execute_result"
    }
   ],
   "source": [
    "b = np.array(range(1, 25)).reshape(3, 4, 2)\n",
    "b"
   ]
  },
  {
   "cell_type": "code",
   "execution_count": 37,
   "metadata": {},
   "outputs": [
    {
     "data": {
      "text/plain": [
       "array(['aaabbbb', 'cccdddd'], dtype=object)"
      ]
     },
     "execution_count": 37,
     "metadata": {},
     "output_type": "execute_result"
    }
   ],
   "source": [
    "np.dot(A , [3, 4])"
   ]
  },
  {
   "cell_type": "code",
   "execution_count": 34,
   "metadata": {},
   "outputs": [
    {
     "data": {
      "text/plain": [
       "array([[['abb', 'cdd'],\n",
       "        ['aaabbbb', 'cccdddd'],\n",
       "        ['aaaaabbbbbb', 'cccccdddddd'],\n",
       "        ['aaaaaaabbbbbbbb', 'cccccccdddddddd']],\n",
       "\n",
       "       [['aaaaaaaaabbbbbbbbbb', 'cccccccccdddddddddd'],\n",
       "        ['aaaaaaaaaaabbbbbbbbbbbb', 'cccccccccccdddddddddddd'],\n",
       "        ['aaaaaaaaaaaaabbbbbbbbbbbbbb', 'cccccccccccccdddddddddddddd'],\n",
       "        ['aaaaaaaaaaaaaaabbbbbbbbbbbbbbbb',\n",
       "         'cccccccccccccccdddddddddddddddd']],\n",
       "\n",
       "       [['aaaaaaaaaaaaaaaaabbbbbbbbbbbbbbbbbb',\n",
       "         'cccccccccccccccccdddddddddddddddddd'],\n",
       "        ['aaaaaaaaaaaaaaaaaaabbbbbbbbbbbbbbbbbbbb',\n",
       "         'cccccccccccccccccccdddddddddddddddddddd'],\n",
       "        ['aaaaaaaaaaaaaaaaaaaaabbbbbbbbbbbbbbbbbbbbbb',\n",
       "         'cccccccccccccccccccccdddddddddddddddddddddd'],\n",
       "        ['aaaaaaaaaaaaaaaaaaaaaaabbbbbbbbbbbbbbbbbbbbbbbb',\n",
       "         'cccccccccccccccccccccccdddddddddddddddddddddddd']]], dtype=object)"
      ]
     },
     "execution_count": 34,
     "metadata": {},
     "output_type": "execute_result"
    }
   ],
   "source": [
    "np.tensordot(A , b, axebs=(-1, -1)).transpose(1, 2, 0)"
   ]
  },
  {
   "cell_type": "code",
   "execution_count": 46,
   "metadata": {},
   "outputs": [
    {
     "data": {
      "text/plain": [
       "array([[ 1.1,  2.1],\n",
       "       [ 3. ,  4. ]])"
      ]
     },
     "execution_count": 46,
     "metadata": {},
     "output_type": "execute_result"
    }
   ],
   "source": [
    "B = np.array([[1.1, 2.1], [3, 4]])\n",
    "B"
   ]
  },
  {
   "cell_type": "code",
   "execution_count": 47,
   "metadata": {},
   "outputs": [
    {
     "data": {
      "text/plain": [
       "array([[[   5.3,   11. ],\n",
       "        [  11.7,   25. ],\n",
       "        [  18.1,   39. ],\n",
       "        [  24.5,   53. ]],\n",
       "\n",
       "       [[  30.9,   67. ],\n",
       "        [  37.3,   81. ],\n",
       "        [  43.7,   95. ],\n",
       "        [  50.1,  109. ]],\n",
       "\n",
       "       [[  56.5,  123. ],\n",
       "        [  62.9,  137. ],\n",
       "        [  69.3,  151. ],\n",
       "        [  75.7,  165. ]]])"
      ]
     },
     "execution_count": 47,
     "metadata": {},
     "output_type": "execute_result"
    }
   ],
   "source": [
    "np.tensordot(B , b, axes=(-1, -1)).transpose(1, 2, 0)"
   ]
  },
  {
   "cell_type": "code",
   "execution_count": 3,
   "metadata": {
    "collapsed": true
   },
   "outputs": [],
   "source": [
    "import numpy as np"
   ]
  },
  {
   "cell_type": "code",
   "execution_count": 4,
   "metadata": {},
   "outputs": [],
   "source": [
    "image = np.zeros((64, 64, 3))"
   ]
  },
  {
   "cell_type": "code",
   "execution_count": 5,
   "metadata": {
    "collapsed": true
   },
   "outputs": [],
   "source": [
    "from matplotlib import pyplot as plt\n",
    "%matplotlib inline"
   ]
  },
  {
   "cell_type": "code",
   "execution_count": 4,
   "metadata": {
    "collapsed": true
   },
   "outputs": [],
   "source": [
    "a = [10, 10, 5]\n",
    "b = [20, 8, 6]\n",
    "c = [28, 30, 7]\n",
    "v = np.array([a, b, c])"
   ]
  },
  {
   "cell_type": "code",
   "execution_count": 5,
   "metadata": {
    "collapsed": true
   },
   "outputs": [],
   "source": [
    "bbmin = v.min(axis=0)\n",
    "bbmax = v.max(axis=0)"
   ]
  },
  {
   "cell_type": "code",
   "execution_count": 6,
   "metadata": {},
   "outputs": [
    {
     "data": {
      "text/plain": [
       "<matplotlib.image.AxesImage at 0x7b07240>"
      ]
     },
     "execution_count": 6,
     "metadata": {},
     "output_type": "execute_result"
    },
    {
     "data": {
      "image/png": "[encoded data removed]",
      "text/plain": [
       "<matplotlib.figure.Figure at 0x76c7588>"
      ]
     },
     "metadata": {},
     "output_type": "display_data"
    }
   ],
   "source": [
    "plt.imshow(image)"
   ]
  },
  {
   "cell_type": "code",
   "execution_count": 1,
   "metadata": {
    "collapsed": true
   },
   "outputs": [],
   "source": [
    "import minigl\n",
    "import utils"
   ]
  },
  {
   "cell_type": "code",
   "execution_count": 10,
   "metadata": {
    "collapsed": true
   },
   "outputs": [],
   "source": [
    "def showImage(image):\n",
    "    plt.imshow(image.transpose((1, 0, 2)))"
   ]
  },
  {
   "cell_type": "code",
   "execution_count": 9,
   "metadata": {},
   "outputs": [
    {
     "ename": "NameError",
     "evalue": "name 'v' is not defined",
     "output_type": "error",
     "traceback": [
      "\u001b[1;31m---------------------------------------------------------------------------\u001b[0m",
      "\u001b[1;31mNameError\u001b[0m                                 Traceback (most recent call last)",
      "\u001b[1;32m<ipython-input-9-9f68146337fd>\u001b[0m in \u001b[0;36m<module>\u001b[1;34m()\u001b[0m\n\u001b[1;32m----> 1\u001b[1;33m \u001b[1;32mfor\u001b[0m \u001b[0mvi\u001b[0m \u001b[1;32min\u001b[0m \u001b[0mv\u001b[0m\u001b[1;33m:\u001b[0m\u001b[1;33m\u001b[0m\u001b[0m\n\u001b[0m\u001b[0;32m      2\u001b[0m \u001b[1;31m#     print(vi)\u001b[0m\u001b[1;33m\u001b[0m\u001b[1;33m\u001b[0m\u001b[0m\n\u001b[0;32m      3\u001b[0m     \u001b[0mimage\u001b[0m\u001b[1;33m[\u001b[0m\u001b[0mint\u001b[0m\u001b[1;33m(\u001b[0m\u001b[0mvi\u001b[0m\u001b[1;33m[\u001b[0m\u001b[1;36m0\u001b[0m\u001b[1;33m]\u001b[0m\u001b[1;33m)\u001b[0m\u001b[1;33m,\u001b[0m \u001b[0mint\u001b[0m\u001b[1;33m(\u001b[0m\u001b[0mvi\u001b[0m\u001b[1;33m[\u001b[0m\u001b[1;36m1\u001b[0m\u001b[1;33m]\u001b[0m\u001b[1;33m)\u001b[0m\u001b[1;33m]\u001b[0m \u001b[1;33m=\u001b[0m \u001b[0mutils\u001b[0m\u001b[1;33m.\u001b[0m\u001b[0mWHITE\u001b[0m\u001b[1;33m\u001b[0m\u001b[0m\n\u001b[0;32m      4\u001b[0m \u001b[1;31m#     minigl.pixel(v, image, utils.WHITE)\u001b[0m\u001b[1;33m\u001b[0m\u001b[1;33m\u001b[0m\u001b[0m\n",
      "\u001b[1;31mNameError\u001b[0m: name 'v' is not defined"
     ]
    }
   ],
   "source": [
    "for vi in v:\n",
    "#     print(vi)\n",
    "    image[int(vi[0]), int(vi[1])] = utils.WHITE\n",
    "#     minigl.pixel(v, image, utils.WHITE)    "
   ]
  },
  {
   "cell_type": "code",
   "execution_count": 11,
   "metadata": {},
   "outputs": [
    {
     "data": {
      "image/png": "[encoded data removed]",
      "text/plain": [
       "<matplotlib.figure.Figure at 0x86f6cf8>"
      ]
     },
     "metadata": {},
     "output_type": "display_data"
    }
   ],
   "source": [
    "showImage(image)"
   ]
  },
  {
   "cell_type": "code",
   "execution_count": 11,
   "metadata": {
    "collapsed": true
   },
   "outputs": [],
   "source": [
    "def line(a, b, image, color):\n",
    "    a = np.asarray(a[:2])\n",
    "    b = np.asarray(b[:2])\n",
    "    d = b - a\n",
    "    steep = False\n",
    "    if(np.abs(d[0]) < np.abs(d[1])):\n",
    "        a = a[::-1]\n",
    "        b = b[::-1]\n",
    "        steep = True\n",
    "    if a[0] > b[0]:\n",
    "        a, b = b, a\n",
    "    d = b - a\n",
    "    e = np.abs(float(d[1])/d[0])\n",
    "    error = 0\n",
    "    y = a[1]\n",
    "    for x in np.arange(a[0], b[0]+1):\n",
    "        if steep:\n",
    "            image[int(y), int(x)] = color\n",
    "        else:\n",
    "            image[int(x), int(y)] = color\n",
    "        error += e\n",
    "        if error > 0.5:\n",
    "            y += 1 if b[1] > a[1] else -1\n",
    "            error -= 1"
   ]
  },
  {
   "cell_type": "code",
   "execution_count": 12,
   "metadata": {},
   "outputs": [
    {
     "data": {
      "image/png": "[encoded data removed]",
      "text/plain": [
       "<matplotlib.figure.Figure at 0x7ff27b8>"
      ]
     },
     "metadata": {},
     "output_type": "display_data"
    }
   ],
   "source": [
    "line(v[0], v[1], image, utils.RED)\n",
    "line(v[1], v[2], image, utils.BLUE)\n",
    "line(v[2], v[0], image, utils.GREEN)\n",
    "showImage(image)"
   ]
  },
  {
   "cell_type": "code",
   "execution_count": 13,
   "metadata": {
    "collapsed": true
   },
   "outputs": [],
   "source": [
    "def scan_x(x1, x2, y, image, color):\n",
    "    image[int(x1):int(x2+0.5), y] = color\n"
   ]
  },
  {
   "cell_type": "code",
   "execution_count": 14,
   "metadata": {
    "collapsed": true
   },
   "outputs": [],
   "source": [
    "def triangle_line_sweep(v, image, color):\n",
    "    v = v[v[:, 1].argsort()]\n",
    "    a = np.array(v[0], dtype=np.int32)\n",
    "    b = np.array(v[1], dtype=np.int32)\n",
    "    c = np.array(v[2], dtype=np.int32)\n",
    "    total_height = max(c[1] - a[1], 1)\n",
    "    seg_height = max(b[1] - a[1], 1)\n",
    "    for y in range(a[1], b[1]+1):\n",
    "        alpha = float(y - a[1]) / total_height\n",
    "        beta = float(y - a[1]) / seg_height\n",
    "        x1 = a[0] + (c[0] - a[0]) * alpha\n",
    "        x2 = a[0] + (b[0] - a[0]) * beta\n",
    "        if x1 > x2:\n",
    "            x1, x2 = x2, x1\n",
    "        scan_x(x1, x2, y, image, color)\n",
    "    seg_height = max(c[1] - b[1], 1)\n",
    "    for y in range(b[1], c[1]+1):\n",
    "        alpha = float(y - a[1]) / total_height\n",
    "        beta = float(y - b[1]) / seg_height\n",
    "        x1 = a[0] + (c[0] - a[0]) * alpha\n",
    "        x2 = b[0] + (c[0] - b[0]) * beta\n",
    "        if x1 > x2:\n",
    "            x1, x2 = x2, x1\n",
    "        scan_x(x1, x2, y, image, color)"
   ]
  },
  {
   "cell_type": "code",
   "execution_count": 15,
   "metadata": {},
   "outputs": [
    {
     "data": {
      "image/png": "[encoded data removed]",
      "text/plain": [
       "<matplotlib.figure.Figure at 0x7e36390>"
      ]
     },
     "metadata": {},
     "output_type": "display_data"
    }
   ],
   "source": [
    "triangle_line_sweep(v, image, utils.WHITE)\n",
    "showImage(image)"
   ]
  },
  {
   "cell_type": "code",
   "execution_count": 16,
   "metadata": {
    "collapsed": true
   },
   "outputs": [],
   "source": [
    "def barycentric(a, b, c, p):\n",
    "    \"\"\"\n",
    "        https://en.wikipedia.org/wiki/Barycentric_coordinate_system\n",
    "        ax - cx    bx - cx\n",
    "        ay - cy    by - cy\n",
    "    \"\"\"\n",
    "    v = np.array([a, b, c])\n",
    "    T = (v[:-1, :2] - v[-1, :2]).T\n",
    "    T_inv = np.linalg.inv(T)\n",
    "    bc = np.dot(T_inv, (p[:2] - v[-1, :2]))\n",
    "    bc[-1] = 1 - bc.sum()\n",
    "    return bc"
   ]
  },
  {
   "cell_type": "code",
   "execution_count": 223,
   "metadata": {
    "collapsed": true
   },
   "outputs": [],
   "source": [
    "def triangle_1(vert, image, color):\n",
    "    \"\"\"\n",
    "    Triangle rasterization using barycentric coordinates\n",
    "    \"\"\"\n",
    "    bbmin = vert.min(axis=0)\n",
    "    bbmax = vert.max(axis=0)\n",
    "#     print\n",
    "\n",
    "    # precompute matrix for finding barycentric coordinates.\n",
    "    T = (vert[:-1, :2] - vert[-1, :2]).T\n",
    "    T_inv = np.linalg.inv(T)\n",
    "\n",
    "    bbmin = np.array(bbmin, dtype=np.uint64)\n",
    "    bbmax = np.array(bbmax + 0.5, dtype=np.uint64) + 1\n",
    "    print(bbmin, bbmax)\n",
    "    \n",
    "    for x in range(bbmin[0], bbmax[0]):\n",
    "        for y in range(bbmin[1], bbmax[1]):\n",
    "            bcd = ([x, y] - vert[-1, :2])\n",
    "            bc = np.dot(T_inv,bcd)            \n",
    "            bc.resize(3)\n",
    "            bc[-1] = 1 - bc.sum()\n",
    "#             print(\"x = {}, y = {}, bcd = {}\".format(x, y, bc))\n",
    "            if np.logical_and(bc >= 0, bc <= 1).all():\n",
    "                image[int(x), int(y)] = color\n",
    "#                 pixel([x, y], image, color)\n",
    "                # pixel([x, y], image, bc)\n",
    "    "
   ]
  },
  {
   "cell_type": "code",
   "execution_count": 28,
   "metadata": {
    "collapsed": true
   },
   "outputs": [],
   "source": [
    "def triangle_2(vert, image, color):\n",
    "    \"\"\"\n",
    "    Triangle rasterization using barycentric coordinates\n",
    "    \"\"\"\n",
    "    bbmin = vert.min(axis=0)\n",
    "    bbmax = vert.max(axis=0)\n",
    "\n",
    "    # precompute matrix for finding barycentric coordinates.\n",
    "    T = (vert[:-1, :2] - vert[-1, :2]).T\n",
    "    T_inv = np.linalg.inv(T)\n",
    "\n",
    "    bbmin = np.array(bbmin, dtype=np.uint64)\n",
    "    bbmax = np.array(bbmax + 0.5, dtype=np.uint64) + 1\n",
    "\n",
    "    x1 = range(bbmin[0], bbmax[0])\n",
    "    y1 = range(bbmin[1], bbmax[1])\n",
    "    print(x1, y1)\n",
    "    u, v = np.meshgrid(x1, y1, sparse=False)\n",
    "#     print(x, y)\n",
    "    uv = np.array([u, v])\n",
    "#     print(uv.shape)    \n",
    "    uv = uv.transpose(1, 2, 0)\n",
    "#     print(uv.shape)\n",
    "#     print(uv)\n",
    "    bcd = np.array(uv - vert[-1, :2], dtype=np.float32)\n",
    "#     print(bcd)\n",
    "    bc = np.tensordot(T_inv, bcd, axes=(1, 2)).transpose(1, 2, 0)\n",
    "    \n",
    "    t = np.logical_and(np.all(np.greater_equal(bc[:, :], 0), axis=-1), np.less_equal(bc.sum(axis=-1), 1))    \n",
    "    t = t.transpose(1, 0)\n",
    "\n",
    "    bcw = np.zeros((bc.shape[0], bc.shape[1], 3))\n",
    "    bcw[:, :, :2] = bc\n",
    "    bcw[:, :, 2] = 1 - bc.sum(axis=-1)\n",
    "\n",
    "    bcw = bcw.transpose(1, 0, 2)\n",
    "    print(\"bcw.shape = \", bcw.shape)\n",
    "    print(\"vert[:, 2] = \", vert[:, 2])\n",
    "    \n",
    "    bc_z = np.tensordot(vert[:, 2], bcw, axes=(0, 2))\n",
    "    \n",
    "    print(\"bc_z.shape = \", bc_z.shape)\n",
    "    print(\"bc_z = \", bc_z)\n",
    "    \n",
    "    \n",
    "#     print(t.shape)\n",
    "    \n",
    "    bb = image[bbmin[0]:bbmax[0], bbmin[1]: bbmax[1]]\n",
    "    \n",
    "#     print(bb.shape)\n",
    "\n",
    "    bb[t] = color    \n",
    "        "
   ]
  },
  {
   "cell_type": "code",
   "execution_count": 34,
   "metadata": {},
   "outputs": [
    {
     "data": {
      "text/plain": [
       "3"
      ]
     },
     "execution_count": 34,
     "metadata": {},
     "output_type": "execute_result"
    }
   ],
   "source": [
    "image.ndim"
   ]
  },
  {
   "cell_type": "code",
   "execution_count": 33,
   "metadata": {},
   "outputs": [
    {
     "data": {
      "image/png": "[encoded data removed]",
      "text/plain": [
       "<matplotlib.figure.Figure at 0xfee240>"
      ]
     },
     "metadata": {},
     "output_type": "display_data"
    }
   ],
   "source": [
    "image = np.zeros((64, 64, 3))\n",
    "# image = np.zeros((24, 24, 3))\n",
    "showImage(image)"
   ]
  },
  {
   "cell_type": "code",
   "execution_count": 30,
   "metadata": {
    "scrolled": false
   },
   "outputs": [
    {
     "name": "stdout",
     "output_type": "stream",
     "text": [
      "range(2, 11) range(2, 11)\n",
      "bcw.shape =  (9, 9, 3)\n",
      "vert[:, 2] =  [3 3 3]\n",
      "bc_z.shape =  (9, 9)\n",
      "bc_z =  [[ 3.  3.  3.  3.  3.  3.  3.  3.  3.]\n",
      " [ 3.  3.  3.  3.  3.  3.  3.  3.  3.]\n",
      " [ 3.  3.  3.  3.  3.  3.  3.  3.  3.]\n",
      " [ 3.  3.  3.  3.  3.  3.  3.  3.  3.]\n",
      " [ 3.  3.  3.  3.  3.  3.  3.  3.  3.]\n",
      " [ 3.  3.  3.  3.  3.  3.  3.  3.  3.]\n",
      " [ 3.  3.  3.  3.  3.  3.  3.  3.  3.]\n",
      " [ 3.  3.  3.  3.  3.  3.  3.  3.  3.]\n",
      " [ 3.  3.  3.  3.  3.  3.  3.  3.  3.]]\n"
     ]
    },
    {
     "data": {
      "image/png": "[encoded data removed]",
      "text/plain": [
       "<matplotlib.figure.Figure at 0x108a518>"
      ]
     },
     "metadata": {},
     "output_type": "display_data"
    }
   ],
   "source": [
    "# a = [10, 10, 3]\n",
    "# b = [50, 10, 3]\n",
    "# c = [30, 45, 3]\n",
    "a = [2, 2, 3]\n",
    "b = [10, 5, 3]\n",
    "c = [5, 10, 3]\n",
    "v = np.array([a, b, c])\n",
    "for vi in v:\n",
    "    image[int(vi[0]), int(vi[1])] = utils.GREEN\n",
    "triangle_2(v, image, utils.WHITE)\n",
    "# triangle_line_sweep(v, image, utils.RED)\n",
    "showImage(image)"
   ]
  },
  {
   "cell_type": "code",
   "execution_count": 252,
   "metadata": {
    "scrolled": false
   },
   "outputs": [
    {
     "name": "stdout",
     "output_type": "stream",
     "text": [
      "[10 10  3] [51 46  4]\n"
     ]
    },
    {
     "data": {
      "image/png": "[encoded data removed]",
      "text/plain": [
       "<matplotlib.figure.Figure at 0x6101908>"
      ]
     },
     "metadata": {},
     "output_type": "display_data"
    }
   ],
   "source": [
    "a = [10, 10, 3]\n",
    "b = [50, 10, 3]\n",
    "c = [30, 45, 3]\n",
    "# a = [2, 2, 3]\n",
    "# b = [10, 5, 3]\n",
    "# c = [5, 10, 3]\n",
    "v = np.array([a, b, c])\n",
    "for vi in v:\n",
    "    image[int(vi[0]), int(vi[1])] = utils.GREEN\n",
    "triangle_1(v, image, utils.WHITE)\n",
    "# triangle_line_sweep(v, image, utils.RED)\n",
    "showImage(image)"
   ]
  },
  {
   "cell_type": "code",
   "execution_count": null,
   "metadata": {
    "collapsed": true
   },
   "outputs": [],
   "source": [
    "for x in range(int(bbmin[0]), int(bbmax[0]+0.5) + 1):\n",
    "    for y in range(int(bbmin[1]), int(bbmax[1]+0.5) + 1):\n",
    "        bc = np.dot(T_inv, ([x, y] - v[-1, :2]))\n",
    "        bc.resize(3)\n",
    "        bc[-1] = 1 - bc.sum()\n",
    "        if np.logical_and(bc >= 0, bc <= 1).all():\n",
    "            pixel([x, y], image, color)\n",
    "            # pixel([x, y], image, bc)\n"
   ]
  }
 ],
 "metadata": {
  "kernelspec": {
   "display_name": "Python 3",
   "language": "python",
   "name": "python3"
  },
  "language_info": {
   "codemirror_mode": {
    "name": "ipython",
    "version": 3
   },
   "file_extension": ".py",
   "mimetype": "text/x-python",
   "name": "python",
   "nbconvert_exporter": "python",
   "pygments_lexer": "ipython3",
   "version": "3.4.5"
  }
 },
 "nbformat": 4,
 "nbformat_minor": 2
}
