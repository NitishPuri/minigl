{
 "cells": [
  {
   "cell_type": "markdown",
   "metadata": {
    "slideshow": {
     "slide_type": "-"
    }
   },
   "source": [
    "## MiniGL :: Primitives"
   ]
  },
  {
   "cell_type": "code",
   "execution_count": 29,
   "metadata": {},
   "outputs": [],
   "source": [
    "import numpy as np"
   ]
  },
  {
   "cell_type": "code",
   "execution_count": 325,
   "metadata": {},
   "outputs": [],
   "source": [
    "from matplotlib import pyplot as plt\n",
    "%matplotlib inline\n",
    "def show(img):\n",
    "    fig, ax = plt.subplots(1, 1, figsize=(10, 10))\n",
    "    ax.imshow(img)\n",
    "    plt.show()"
   ]
  },
  {
   "cell_type": "code",
   "execution_count": 326,
   "metadata": {
    "collapsed": true
   },
   "outputs": [],
   "source": [
    "from skimage import io"
   ]
  },
  {
   "cell_type": "code",
   "execution_count": 98,
   "metadata": {
    "collapsed": true
   },
   "outputs": [],
   "source": [
    "def pixel(p, image, color):\n",
    "    image[p[0]][p[1]] = color"
   ]
  },
  {
   "cell_type": "code",
   "execution_count": 176,
   "metadata": {
    "collapsed": true
   },
   "outputs": [],
   "source": [
    "def aligned_rectangle(p, q, image, color):\n",
    "    image[p[0]:q[0], p[1]:q[1]] = color"
   ]
  },
  {
   "cell_type": "code",
   "execution_count": 202,
   "metadata": {
    "collapsed": true
   },
   "outputs": [],
   "source": [
    "# First attempt\n",
    "def line(a, b, image, color):\n",
    "    a = np.asarray(a)\n",
    "    b = np.asarray(b)\n",
    "    d = b - a\n",
    "    for t in np.arange(0, 1.01, 0.01):\n",
    "        p = (a + d*t).astype(int)\n",
    "        pixel(p, image, color)            "
   ]
  },
  {
   "cell_type": "code",
   "execution_count": 271,
   "metadata": {
    "collapsed": true
   },
   "outputs": [],
   "source": [
    "# Second  attempt\n",
    "def line(a, b, image, color):\n",
    "    a = np.asarray(a)\n",
    "    b = np.asarray(b)\n",
    "    d = b - a\n",
    "    for x in np.arange(a[0], b[0]+1):\n",
    "        t = (x - a[0])/(b[0] - a[0])\n",
    "        y = int(a[1] * (1 - t) + b[1] * t)\n",
    "        pixel((x,y), image, color)"
   ]
  },
  {
   "cell_type": "code",
   "execution_count": 306,
   "metadata": {
    "collapsed": true
   },
   "outputs": [],
   "source": [
    "# Third attempt\n",
    "def line(a, b, image, color):    \n",
    "    a = np.asarray(a)\n",
    "    b = np.asarray(b)\n",
    "    d = b - a\n",
    "    steep = False\n",
    "    if(np.abs(d[0]) < np.abs(d[1])):\n",
    "        a = a[::-1]\n",
    "        b = b[::-1]\n",
    "        d = b - a\n",
    "        steep = True\n",
    "    if a[0] > b[0]:\n",
    "        a, b = b, a\n",
    "    for x in np.arange(a[0], b[0]+1):\n",
    "        t = (x - a[0])/(b[0] - a[0])\n",
    "        y = int(a[1] * (1 - t) + b[1] * t)    \n",
    "#         print(x, y)\n",
    "        pixel((y, x) if steep else (x,y), image, color)"
   ]
  },
  {
   "cell_type": "markdown",
   "metadata": {},
   "source": [
    "https://en.wikipedia.org/wiki/Bresenham%27s_line_algorithm"
   ]
  },
  {
   "cell_type": "code",
   "execution_count": 324,
   "metadata": {
    "collapsed": true
   },
   "outputs": [],
   "source": [
    "# Fourth attempt\n",
    "def line(a, b, image, color):    \n",
    "    a = np.asarray(a)\n",
    "    b = np.asarray(b)\n",
    "    d = b - a\n",
    "    steep = False\n",
    "    if(np.abs(d[0]) < np.abs(d[1])):\n",
    "        a = a[::-1]\n",
    "        b = b[::-1]\n",
    "        steep = True\n",
    "    if a[0] > b[0]:\n",
    "        a, b = b, a\n",
    "    d = b - a\n",
    "    e = np.abs(d[1]/d[0])\n",
    "    error = 0\n",
    "    y = a[1]\n",
    "    for x in np.arange(a[0], b[0]+1):\n",
    "        pixel((y, x) if steep else (x,y), image, color)\n",
    "        error += e\n",
    "        if error > 0.5 : \n",
    "            y += 1 if b[1] > a[1] else -1\n",
    "            error -= 1        "
   ]
  },
  {
   "cell_type": "code",
   "execution_count": 323,
   "metadata": {},
   "outputs": [
    {
     "data": {
      "image/png": "[encoded data removed]",
      "text/plain": [
       "<matplotlib.figure.Figure at 0xa04add8>"
      ]
     },
     "metadata": {},
     "output_type": "display_data"
    }
   ],
   "source": [
    "image = np.zeros((250, 250, 3))\n",
    "aligned_rectangle((20, 20), (40, 40), image, (1, 1, 0))\n",
    "line( (20, 25), (60, 60), image, (1, 0, 1) )\n",
    "line( (20, 25), (60, 100), image, (0, 1, 1) )\n",
    "line( (20, 25), (100, 60), image, (0, 0, 1) )\n",
    "line( (100, 25), (20, 60), image, (0, 0, 1) )\n",
    "pixel((5, 5), image, (1, 1, 1))\n",
    "show(image)"
   ]
  },
  {
   "cell_type": "code",
   "execution_count": 328,
   "metadata": {},
   "outputs": [
    {
     "name": "stderr",
     "output_type": "stream",
     "text": [
      "D:\\Installations\\Anaconda\\envs\\minigl\\lib\\site-packages\\skimage\\util\\dtype.py:110: UserWarning: Possible precision loss when converting from float64 to uint8\n",
      "  \"%s to %s\" % (dtypeobj_in, dtypeobj))\n"
     ]
    }
   ],
   "source": [
    "skimage.io.imsave(\"test.jpg\", image)"
   ]
  },
  {
   "cell_type": "code",
   "execution_count": 333,
   "metadata": {},
   "outputs": [],
   "source": [
    "im2 = (image * 255).astype(np.uint8)"
   ]
  },
  {
   "cell_type": "code",
   "execution_count": 334,
   "metadata": {},
   "outputs": [
    {
     "data": {
      "image/png": "[encoded data removed]",
      "text/plain": [
       "<matplotlib.figure.Figure at 0xea09908>"
      ]
     },
     "metadata": {},
     "output_type": "display_data"
    }
   ],
   "source": [
    "show(im2)"
   ]
  }
 ],
 "metadata": {
  "celltoolbar": "Raw Cell Format",
  "kernelspec": {
   "display_name": "Python 3",
   "language": "python",
   "name": "python3"
  },
  "language_info": {
   "codemirror_mode": {
    "name": "ipython",
    "version": 3
   },
   "file_extension": ".py",
   "mimetype": "text/x-python",
   "name": "python",
   "nbconvert_exporter": "python",
   "pygments_lexer": "ipython3",
   "version": "3.4.5"
  }
 },
 "nbformat": 4,
 "nbformat_minor": 2
}
